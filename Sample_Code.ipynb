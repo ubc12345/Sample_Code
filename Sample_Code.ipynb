{
  "nbformat": 4,
  "nbformat_minor": 0,
  "metadata": {
    "colab": {
      "name": "Sample Code",
      "provenance": []
    },
    "kernelspec": {
      "name": "python3",
      "display_name": "Python 3"
    }
  },
  "cells": [
    {
      "cell_type": "markdown",
      "metadata": {
        "id": "PJPRYaVTmqsf"
      },
      "source": [
        "# **SAMPLE CODE:**\n"
      ]
    },
    {
      "cell_type": "markdown",
      "metadata": {
        "id": "tpsIgzflp7OO"
      },
      "source": [
        "# **IMPORT PYTHON PACKAGES**"
      ]
    },
    {
      "cell_type": "code",
      "metadata": {
        "id": "rFn9KcTunVFb"
      },
      "source": [
        "import numpy as np\n",
        "import pandas as pd\n",
        "import math\n",
        "import os\n",
        "import matplotlib.pyplot as plt\n",
        "%matplotlib inline\n",
        "import seaborn as sns\n",
        "import datetime"
      ],
      "execution_count": 1,
      "outputs": []
    },
    {
      "cell_type": "markdown",
      "metadata": {
        "id": "WCZ3CExOqKQh"
      },
      "source": [
        "# **READ A FASTA FILE** "
      ]
    },
    {
      "cell_type": "code",
      "metadata": {
        "id": "5EXIAZcnqh_S"
      },
      "source": [
        "dna=open(\"dna.example.fasta\")\n",
        "dna_contents=dna.read()"
      ],
      "execution_count": 2,
      "outputs": []
    },
    {
      "cell_type": "markdown",
      "metadata": {
        "id": "mb-wPBfpqvGy"
      },
      "source": [
        "# **PARSING A FASTA FILE**"
      ]
    },
    {
      "cell_type": "code",
      "metadata": {
        "id": "4wD7h_6hRpii"
      },
      "source": [
        "def gene_separation(dna_contents):\n",
        "  '''\n",
        "  Parsing \"gene ids>gene sequence\" read from dataset into list\n",
        "  Input : dataset\n",
        "  Output : list of gene sequence\n",
        "  '''\n",
        "  separate_genes=dna_contents.split(\">\") \n",
        "  separate_genes=separate_genes[1:]\n",
        "  return separate_genes"
      ],
      "execution_count": 3,
      "outputs": []
    },
    {
      "cell_type": "code",
      "metadata": {
        "id": "mtuIUZn7Vdxj",
        "outputId": "f85bf30c-2a6e-4f60-8d75-86e47288f22d",
        "colab": {
          "base_uri": "https://localhost:8080/"
        }
      },
      "source": [
        "separate_genes=gene_separation(dna_contents) \n",
        "\n",
        "print(\"Total number of records in dataset are: \" + str(len(separate_genes)))"
      ],
      "execution_count": 4,
      "outputs": [
        {
          "output_type": "stream",
          "text": [
            "Total number of records in dataset are: 25\n"
          ],
          "name": "stdout"
        }
      ]
    },
    {
      "cell_type": "code",
      "metadata": {
        "id": "TVU3CShLSm3j"
      },
      "source": [
        "def genes_without_ids(separate_genes):\n",
        "  '''\n",
        "  Parse gene ids and gene sequences created from each gene and create a list\n",
        "  Input : Gene list\n",
        "  Output: Id list and gene list\n",
        "  '''\n",
        "  ids=[]\n",
        "  genes=[]\n",
        "  for i in range(0,len(separate_genes)):\n",
        "    n=separate_genes[i].find(\"\\n\")\n",
        "    ids.append(separate_genes[i][:n])\n",
        "    genes.append(separate_genes[i][n+1:])\n",
        "    genes[i]=genes[i].replace('\\n','')\n",
        "  return ids, genes"
      ],
      "execution_count": 5,
      "outputs": []
    },
    {
      "cell_type": "code",
      "metadata": {
        "id": "OaIn5oguSzyE"
      },
      "source": [
        "ids, genes =genes_without_ids(separate_genes)"
      ],
      "execution_count": 6,
      "outputs": []
    },
    {
      "cell_type": "code",
      "metadata": {
        "id": "SAKoV3rMS21V"
      },
      "source": [
        "def sequence_length(genes):\n",
        "  '''\n",
        "  Calculate length of genes and create a list\n",
        "  Input: list o\n",
        "  '''\n",
        "  len_genes=[]\n",
        "  for i in range(len(genes)):\n",
        "    len_genes.append(len(genes[i]))\n",
        "  return len_genes"
      ],
      "execution_count": 7,
      "outputs": []
    },
    {
      "cell_type": "code",
      "metadata": {
        "id": "pMOSHGDMXlM2"
      },
      "source": [
        "#len_genes is list of length of genes\n",
        "len_genes=sequence_length(genes)"
      ],
      "execution_count": 8,
      "outputs": []
    },
    {
      "cell_type": "markdown",
      "metadata": {
        "id": "DB8bpGnMs_AT"
      },
      "source": [
        "# **LOOKING FOR ALL GENES WITH MAXIMUM OR MINIMUM LENGTH**"
      ]
    },
    {
      "cell_type": "code",
      "metadata": {
        "id": "SBnbakvfS8Zs"
      },
      "source": [
        "def max_len(len_genes,ids):\n",
        "  '''\n",
        "  Find all the genes with maximum length along with their position in the dataset\n",
        "  Input: list of ids and gene length\n",
        "  Output: position at which maximum length gene occur in list and their ids\n",
        "  '''\n",
        "  max_len_genes=max(len_genes)\n",
        "  max_occurences=len_genes.count(max_len_genes)\n",
        "  max_len_position=[]\n",
        "  ids_of_max_gene_len=[]\n",
        "  for i in range(len(len_genes)):\n",
        "      if len_genes[i]==max_len_genes:\n",
        "        max_len_position.append(i)\n",
        "        ids_of_max_gene_len.append(ids[i])\n",
        "  return max_len_position, ids_of_max_gene_len"
      ],
      "execution_count": 9,
      "outputs": []
    },
    {
      "cell_type": "code",
      "metadata": {
        "id": "ferW5rIuX8wo",
        "outputId": "dada9304-3f00-4cd7-9fe9-52d48da57405",
        "colab": {
          "base_uri": "https://localhost:8080/"
        }
      },
      "source": [
        "max_len_position, ids_of_max_gene_len=max_len(len_genes,ids)\n",
        "print(\"Number of maximum length genes : \" + str(len(max_len_position)))"
      ],
      "execution_count": 10,
      "outputs": [
        {
          "output_type": "stream",
          "text": [
            "Number of maximum length genes : 1\n"
          ],
          "name": "stdout"
        }
      ]
    },
    {
      "cell_type": "code",
      "metadata": {
        "id": "CPztTXfWTGIo"
      },
      "source": [
        "def min_len(len_genes,ids):\n",
        "  '''\n",
        "  Find all the genes with minimum length along with their position in the dataset\n",
        "  Input: list of ids and gene length\n",
        "  Output: position at which minimum length gene occur in list and their ids\n",
        "  '''\n",
        "  min_len_genes=min(len_genes)\n",
        "  min_occurences=len_genes.count(min_len_genes)\n",
        "  min_len_position=[]\n",
        "  ids_of_min_gene_len=[]\n",
        "  for i in range(len(len_genes)):\n",
        "      if len_genes[i]==min_len_genes:\n",
        "        min_len_position.append(i)\n",
        "        ids_of_min_gene_len.append(ids[i])\n",
        "  return min_len_position, ids_of_min_gene_len"
      ],
      "execution_count": 11,
      "outputs": []
    },
    {
      "cell_type": "code",
      "metadata": {
        "id": "5WOMAt1oZwHY",
        "outputId": "6db471d9-eec8-4442-acff-9bf2dbb9177e",
        "colab": {
          "base_uri": "https://localhost:8080/"
        }
      },
      "source": [
        "min_len_position, ids_of_min_gene_len=min_len(len_genes,ids)\n",
        "print(\"Number of minimum length genes : \" + str(len(max_len_position)))"
      ],
      "execution_count": 12,
      "outputs": [
        {
          "output_type": "stream",
          "text": [
            "Number of minimum length genes : 1\n"
          ],
          "name": "stdout"
        }
      ]
    },
    {
      "cell_type": "markdown",
      "metadata": {
        "id": "KHQNpXAxti1p"
      },
      "source": [
        "# **DETERMINING READING FRAMES OF INDIVIDUAL GENES**"
      ]
    },
    {
      "cell_type": "code",
      "metadata": {
        "id": "sUHLqeaUTMOF"
      },
      "source": [
        "def reading_frames(genes):\n",
        "  '''\n",
        "  Generating reading frames from each gene\n",
        "  Input: Gene list\n",
        "  Output: List of reading frames for each gene\n",
        "  '''\n",
        "  list_of_genes_with_rf=[]\n",
        "  for i in range(len(genes)):\n",
        "    temp = []\n",
        "    rem = len(genes[i])%3\n",
        "    temp.append(genes[i][:len(genes[i]) - (rem%3)])\n",
        "    temp.append(genes[i][1:len(genes[i]) - ((rem-1)%3)])\n",
        "    temp.append(genes[i][2:len(genes[i]) - ((rem-2)%3)])\n",
        "    list_of_genes_with_rf.append(temp)\n",
        "  return list_of_genes_with_rf"
      ],
      "execution_count": 13,
      "outputs": []
    },
    {
      "cell_type": "code",
      "metadata": {
        "id": "ApuqxIYfaR8S",
        "outputId": "1c4fc7bc-c76e-4f57-a954-c6bce3d52285",
        "colab": {
          "base_uri": "https://localhost:8080/"
        }
      },
      "source": [
        "list_of_genes_with_rf=reading_frames(genes)\n",
        "print(\"Reading frame 1 of gene 1: \" + list_of_genes_with_rf[0][0])\n",
        "print(\"Reading frame 1 of gene 2: \" + list_of_genes_with_rf[0][1])\n",
        "print(\"Reading frame 1 of gene 3: \" + list_of_genes_with_rf[0][2])"
      ],
      "execution_count": 14,
      "outputs": [
        {
          "output_type": "stream",
          "text": [
            "Reading frame 1 of gene 1: TCGGGCGAAGGCGGCAGCAAGTCGTCCACGCGCAGCGCGGCACCGCGGGCCTCTGCCGTGCGCTGCTTGGCCATGGCCTCCAGCGCACCGATCGGATCAAAGCCGCTGAAGCCTTCGCGCATCAGGCGGCCATAGTTGGCGCCAGTGACCGTACCAACCGCCTTGATGCGGCGCTCGGTCATCGCTGCATTGATCGAGTAGCCACCGCCGCCGCAAATGCCCAGCACGCCAATGCGTTCTTCATCCACATAGGGGAGCGTTACGAGGTAGTCGCAGACCACGCGGAAATCCTCGACGCGCAGTGTCGGGTCTTCGGTAAAACGTGGTTCGCCGCCGCTGGCACCCTGGAAGCTGGCGTCGAAGGCGATGACGACGAAACCTTCCTTGGCCAGCGCCTCGCCATACACGTTCCCCGATGTTTGCTCCTTGCAGCTGCCGATCGGATGCGCGCTGATGATGGCGGGATATTTCTTGCCTTCGTCGAAGTTCGGCGGGAAGTGGATGTCGGCTGCGATATCCCAATACACATTCTTGATCTTGACGCTTTTCATGACAGCTCCGTTCAGGGGGAGGGGGTAAGTTCGCCAGGCCGAATCGTTGGTAGCCAAGCGGCAACGACTCGAATATAGAGAGCCGATTGGAATTCCGTAAGATCGCAATCTGGACTACAGTGGTATCTTCAAATTGACAATGGCACCTACATGGATCCCTCACTGCTTCCGTCTCTCGCGTGGTTCGCCCACGTCGCACATCATCGTAGCTTCACGAAAGCGGCTGCGGAAATGGGCGTTTCTCGAGCAAACCTGTCGCAGAACGTGAAGGCGCTCGAACGCCGGTTGAACGTCAAGCTGCTGTATCGAACGACTCGCGACATGTCGCTGACCGAGGAGGGGCAGCGGCTCTACGAGGTGTGGTATCCCGCGCTGGTCGCGGTCGAGCGGACGGTCGACGCGCTGCACGAGGAGCGCGACGAGCCGTCGGGGTTGATTC\n",
            "Reading frame 1 of gene 2: CGGGCGAAGGCGGCAGCAAGTCGTCCACGCGCAGCGCGGCACCGCGGGCCTCTGCCGTGCGCTGCTTGGCCATGGCCTCCAGCGCACCGATCGGATCAAAGCCGCTGAAGCCTTCGCGCATCAGGCGGCCATAGTTGGCGCCAGTGACCGTACCAACCGCCTTGATGCGGCGCTCGGTCATCGCTGCATTGATCGAGTAGCCACCGCCGCCGCAAATGCCCAGCACGCCAATGCGTTCTTCATCCACATAGGGGAGCGTTACGAGGTAGTCGCAGACCACGCGGAAATCCTCGACGCGCAGTGTCGGGTCTTCGGTAAAACGTGGTTCGCCGCCGCTGGCACCCTGGAAGCTGGCGTCGAAGGCGATGACGACGAAACCTTCCTTGGCCAGCGCCTCGCCATACACGTTCCCCGATGTTTGCTCCTTGCAGCTGCCGATCGGATGCGCGCTGATGATGGCGGGATATTTCTTGCCTTCGTCGAAGTTCGGCGGGAAGTGGATGTCGGCTGCGATATCCCAATACACATTCTTGATCTTGACGCTTTTCATGACAGCTCCGTTCAGGGGGAGGGGGTAAGTTCGCCAGGCCGAATCGTTGGTAGCCAAGCGGCAACGACTCGAATATAGAGAGCCGATTGGAATTCCGTAAGATCGCAATCTGGACTACAGTGGTATCTTCAAATTGACAATGGCACCTACATGGATCCCTCACTGCTTCCGTCTCTCGCGTGGTTCGCCCACGTCGCACATCATCGTAGCTTCACGAAAGCGGCTGCGGAAATGGGCGTTTCTCGAGCAAACCTGTCGCAGAACGTGAAGGCGCTCGAACGCCGGTTGAACGTCAAGCTGCTGTATCGAACGACTCGCGACATGTCGCTGACCGAGGAGGGGCAGCGGCTCTACGAGGTGTGGTATCCCGCGCTGGTCGCGGTCGAGCGGACGGTCGACGCGCTGCACGAGGAGCGCGACGAGCCGTCGGGGTTGAT\n",
            "Reading frame 1 of gene 3: GGGCGAAGGCGGCAGCAAGTCGTCCACGCGCAGCGCGGCACCGCGGGCCTCTGCCGTGCGCTGCTTGGCCATGGCCTCCAGCGCACCGATCGGATCAAAGCCGCTGAAGCCTTCGCGCATCAGGCGGCCATAGTTGGCGCCAGTGACCGTACCAACCGCCTTGATGCGGCGCTCGGTCATCGCTGCATTGATCGAGTAGCCACCGCCGCCGCAAATGCCCAGCACGCCAATGCGTTCTTCATCCACATAGGGGAGCGTTACGAGGTAGTCGCAGACCACGCGGAAATCCTCGACGCGCAGTGTCGGGTCTTCGGTAAAACGTGGTTCGCCGCCGCTGGCACCCTGGAAGCTGGCGTCGAAGGCGATGACGACGAAACCTTCCTTGGCCAGCGCCTCGCCATACACGTTCCCCGATGTTTGCTCCTTGCAGCTGCCGATCGGATGCGCGCTGATGATGGCGGGATATTTCTTGCCTTCGTCGAAGTTCGGCGGGAAGTGGATGTCGGCTGCGATATCCCAATACACATTCTTGATCTTGACGCTTTTCATGACAGCTCCGTTCAGGGGGAGGGGGTAAGTTCGCCAGGCCGAATCGTTGGTAGCCAAGCGGCAACGACTCGAATATAGAGAGCCGATTGGAATTCCGTAAGATCGCAATCTGGACTACAGTGGTATCTTCAAATTGACAATGGCACCTACATGGATCCCTCACTGCTTCCGTCTCTCGCGTGGTTCGCCCACGTCGCACATCATCGTAGCTTCACGAAAGCGGCTGCGGAAATGGGCGTTTCTCGAGCAAACCTGTCGCAGAACGTGAAGGCGCTCGAACGCCGGTTGAACGTCAAGCTGCTGTATCGAACGACTCGCGACATGTCGCTGACCGAGGAGGGGCAGCGGCTCTACGAGGTGTGGTATCCCGCGCTGGTCGCGGTCGAGCGGACGGTCGACGCGCTGCACGAGGAGCGCGACGAGCCGTCGGGGTTGATT\n"
          ],
          "name": "stdout"
        }
      ]
    },
    {
      "cell_type": "markdown",
      "metadata": {
        "id": "dXgInU2nu0iT"
      },
      "source": [
        "# **CHECKING FOR REPEATS OF GIVEN LENGTH IN INDIVIDUAL GENES IN THE FILE**"
      ]
    },
    {
      "cell_type": "code",
      "metadata": {
        "id": "yiPgOp6ocAct"
      },
      "source": [
        "def repeat_in_entire_file(genes,len_of_repeat_from_user):\n",
        "  '''\n",
        "  Determining different repeat of a given length and calculating the \n",
        "  number of occurence of the repeat in a particular gene\n",
        "  Input: Gene list and lenght of repeat\n",
        "  Output: Dictionary of repeat and their occurence\n",
        "  '''\n",
        "  dict_gene = {}\n",
        "  for i in range(len(genes)):\n",
        "    for j in range(0,len(genes[i]) - len_of_repeat_from_user+1):\n",
        "      substring = genes[i][j:j+len_of_repeat_from_user]\n",
        "      if substring in dict_gene:\n",
        "        dict_gene[substring]+=1\n",
        "      else:\n",
        "        dict_gene[substring] = 1\n",
        "  return dict_gene"
      ],
      "execution_count": 15,
      "outputs": []
    },
    {
      "cell_type": "code",
      "metadata": {
        "id": "6pyd-glacVcU"
      },
      "source": [
        "len_of_repeat_from_user=6\n",
        "print(\"List of repeats and their occurences\")\n",
        "print(repeat_in_entire_file(genes,len_of_repeat_from_user))"
      ],
      "execution_count": null,
      "outputs": []
    },
    {
      "cell_type": "markdown",
      "metadata": {
        "id": "oUEKqX45p1J-"
      },
      "source": [
        "# **DETERMINING SPECIFIC REPEAT IN A GENE SEQUENCE**"
      ]
    },
    {
      "cell_type": "code",
      "metadata": {
        "id": "KIEkMVH8p0jg"
      },
      "source": [
        "def user_defined_repeat_in_genes(genes, repeat_from_user):\n",
        "  '''\n",
        "  Determining positions in individual genes \n",
        "  where the specific user defined repeat occurs\n",
        "  Input: Gene list and repeat from user\n",
        "  Output: Location of repeat in each gene\n",
        "  '''\n",
        "  dict_repeat_pos_in_genes={}\n",
        "  pos_repeat_in_individual_genes=[]\n",
        "  for i in range(len(genes)):\n",
        "    for j in range(0,len(genes[i]) - len(repeat_from_user)+1):\n",
        "      if repeat_from_user == genes[i][j:j+len(repeat_from_user)]:\n",
        "        pos_repeat_in_individual_genes.append(j)\n",
        "    if len(pos_repeat_in_individual_genes)>0:\n",
        "      dict_repeat_pos_in_genes[i]=pos_repeat_in_individual_genes\n",
        "    else:\n",
        "      dict_repeat_pos_in_genes[i]=\"None\"\n",
        "    pos_repeat_in_individual_genes=[]\n",
        "  return dict_repeat_pos_in_genes"
      ],
      "execution_count": 17,
      "outputs": []
    },
    {
      "cell_type": "code",
      "metadata": {
        "id": "D_Yy3axFc5zU",
        "outputId": "2aa8963f-adc4-4691-c631-98113dcd3fea",
        "colab": {
          "base_uri": "https://localhost:8080/"
        }
      },
      "source": [
        "repeat_from_user=\"AA\"\n",
        "dict_repeat_pos_in_genes=user_defined_repeat_in_genes(genes,repeat_from_user)\n",
        "print(\"Repeat from user is : \" + repeat_from_user)\n",
        "print(\"Repeat occurences in gene 1 : \" + str(dict_repeat_pos_in_genes[0]))"
      ],
      "execution_count": 18,
      "outputs": [
        {
          "output_type": "stream",
          "text": [
            "Repeat from user is : AA\n",
            "Repeat occurences in gene 1 : [7, 18, 98, 99, 108, 155, 214, 215, 230, 285, 286, 317, 318, 319, 348, 360, 375, 376, 483, 495, 520, 577, 592, 606, 613, 622, 641, 649, 657, 681, 682, 689, 767, 768, 780, 781, 799, 800, 812, 818, 828, 839, 845, 859]\n"
          ],
          "name": "stdout"
        }
      ]
    },
    {
      "cell_type": "markdown",
      "metadata": {
        "id": "Nb30isDOvRqM"
      },
      "source": [
        "# **CALCULATING HAMMING DISTANCE BETWEEN TWO STRINGS**"
      ]
    },
    {
      "cell_type": "code",
      "metadata": {
        "id": "gULNxEeRcX_x"
      },
      "source": [
        "def compute_hamming_distance(gene1,gene2):\n",
        "  '''\n",
        "  Compute the Hamming distance between two genes\n",
        "  Input: Two gene as different string\n",
        "  Output: Hamming distance between them\n",
        "  '''\n",
        "  hamming_distance=0\n",
        "  for i in range(len(gene1)):\n",
        "    if gene1[i]!=gene2[i]:\n",
        "      hamming_distance=hamming_distance+1\n",
        "  return hamming_distance"
      ],
      "execution_count": 19,
      "outputs": []
    },
    {
      "cell_type": "code",
      "metadata": {
        "id": "2hsVmmeBUZf8",
        "outputId": "94227c17-a111-4277-8075-a98b0dc802de",
        "colab": {
          "base_uri": "https://localhost:8080/"
        }
      },
      "source": [
        "gene1=\"CTACAGCAATACGATCATATGCGGATCCGCAGTGGCCGGTAGACACACGT\"\n",
        "gene2=\"CTACCCCGCTGCTCAATGACCGGGACTAAAGAGGCGAAGATTATGGTGTG\"\n",
        "hamming_distance=compute_hamming_distance(gene1,gene2)\n",
        "\n",
        "print(\"Hamming distance is : \" + str(hamming_distance))"
      ],
      "execution_count": 20,
      "outputs": [
        {
          "output_type": "stream",
          "text": [
            "Hamming distance is : 36\n"
          ],
          "name": "stdout"
        }
      ]
    }
  ]
}